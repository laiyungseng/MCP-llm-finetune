{
 "cells": [
  {
   "cell_type": "markdown",
   "id": "79e2f103",
   "metadata": {},
   "source": [
    "### TESTING"
   ]
  },
  {
   "cell_type": "code",
   "execution_count": 3,
   "id": "05db9a90",
   "metadata": {},
   "outputs": [],
   "source": [
    "import unsloth\n",
    "from unsloth import FastLanguageModel"
   ]
  },
  {
   "cell_type": "code",
   "execution_count": 10,
   "id": "114fbea4",
   "metadata": {},
   "outputs": [
    {
     "name": "stdout",
     "output_type": "stream",
     "text": [
      "==((====))==  Unsloth 2025.7.3: Fast Llama patching. Transformers: 4.53.2.\n",
      "   \\\\   /|    NVIDIA GeForce RTX 4060 Ti. Num GPUs = 1. Max memory: 7.996 GB. Platform: Windows.\n",
      "O^O/ \\_/ \\    Torch: 2.7.1+cu128. CUDA: 8.9. CUDA Toolkit: 12.8. Triton: 3.3.1\n",
      "\\        /    Bfloat16 = TRUE. FA [Xformers = 0.0.31.post1. FA2 = False]\n",
      " \"-____-\"     Free license: http://github.com/unslothai/unsloth\n",
      "Unsloth: Fast downloading is enabled - ignore downloading bars which are red colored!\n"
     ]
    }
   ],
   "source": [
    "##testing\n",
    "from transformers import AutoTokenizer\n",
    "\n",
    "model, tokenizer = FastLanguageModel.from_pretrained(\n",
    "    model_name = r\"C:\\Users\\PC\\Desktop\\program\\fine tune\\lora_model\",\n",
    "    dtype=None,\n",
    "    load_in_4bit=True,\n",
    ")"
   ]
  },
  {
   "cell_type": "code",
   "execution_count": 5,
   "id": "39ddeda7",
   "metadata": {},
   "outputs": [
    {
     "name": "stdout",
     "output_type": "stream",
     "text": [
      "[\n",
      "  [\n",
      "    {\n",
      "      \"name\": \"create_event\",\n",
      "      \"description\": \"Creates a calendar event.\\n\\nArgs:\\n    calendar_id (str): The ID of the calendar where the event should be created. Example: 'primary'\\n    summary (str): Title of the event.\\n    description (str): Description of the event.\\n    start_time (str): Start datetime in ISO 8601 format (e.g. \\\"2025-07-12T09:00:00\\\").\\n    end_time (str): End datetime in ISO 8601 format (e.g. \\\"2025-07-12T10:00:00\\\").\\n    timezone (str): Timezone for the event. Default is \\\"Asia/Kuala_Lumpur\\\".\\n\\nReturns:\\n    str: The link to the created event, or an error message.\",\n",
      "      \"parameters\": {\n",
      "        \"properties\": {\n",
      "          \"calendar_id\": {\n",
      "            \"type\": \"string\"\n",
      "          },\n",
      "          \"summary\": {\n",
      "            \"type\": \"string\"\n",
      "          },\n",
      "          \"description\": {\n",
      "            \"type\": \"string\"\n",
      "          },\n",
      "          \"start_time\": {\n",
      "            \"type\": \"string\"\n",
      "          },\n",
      "          \"end_time\": {\n",
      "            \"type\": \"string\"\n",
      "          },\n",
      "          \"timezone\": {\n",
      "            \"default\": \"Asia/Kuala_Lumpur\",\n",
      "            \"type\": \"string\"\n",
      "          }\n",
      "        },\n",
      "        \"required\": [\n",
      "          \"calendar_id\",\n",
      "          \"summary\",\n",
      "          \"description\",\n",
      "          \"start_time\",\n",
      "          \"end_time\"\n",
      "        ],\n",
      "        \"type\": \"object\"\n",
      "      }\n",
      "    },\n",
      "    {\n",
      "      \"name\": \"get_event\",\n",
      "      \"description\": \"Retrieves upcoming events from a specific Google Calendar.\\n\\nArgs:\\n  calendar_id (str): the ID of the calendar to retrieve events from.\\n          Example: \\\"primary\\\", \\\"your-email@gmail.com\\\", \\\"abc123@group.calendar.google.com\\\"\\n  time_min (str): The lower bound (RFC3339 timestamp) for an event\\u2019s start time to filter from.\\n          Example: datetime.datetime.utcnow().isoformat() + 'Z, (e.g: \\\"2025-07-11T00:00:00\\\")\\n  max_results (str): The maximum number of events to retrieve. Default is 10.\\n  order_by (str): The order in which to return results. Default is \\\"startTime\\\".\\n          Other valid option: \\\"updated\\\"\\n\\nReturns:\\n  str: A formatted list of upcoming events. if no events are found, returns a message indicating that.\\n\\nExample:\\n  get_event(calendar_id=\\\"primary\\\", time_min\\\"2025-07-11T00:00:00Z\\\", max_results=10)\",\n",
      "      \"parameters\": {\n",
      "        \"properties\": {\n",
      "          \"calendar_id\": {\n",
      "            \"type\": \"string\"\n",
      "          },\n",
      "          \"time_min\": {\n",
      "            \"type\": \"string\"\n",
      "          },\n",
      "          \"max_results\": {\n",
      "            \"default\": 10,\n",
      "            \"type\": \"integer\"\n",
      "          },\n",
      "          \"order_by\": {\n",
      "            \"default\": \"startTime\",\n",
      "            \"type\": \"string\"\n",
      "          }\n",
      "        },\n",
      "        \"required\": [\n",
      "          \"calendar_id\",\n",
      "          \"time_min\"\n",
      "        ],\n",
      "        \"type\": \"object\"\n",
      "      }\n",
      "    },\n",
      "    {\n",
      "      \"name\": \"update_event\",\n",
      "      \"description\": \"Updates an existing event in the specified calendar.\\n\\nArgs:\\n    calendar_id (str): Calendar ID where the event exists.\\n    event_id (str): The ID of the event to update.\\n    new_summary (str): New title (optional).\\n    new_description (str): New description (optional).\\n    new_start (str): New start time in ISO format (optional) (e.g.: \\\"2025-07-29T08:00:00\\\").\\n    new_end (str): New end time in ISO format (optional) (e.g.: \\\"2025-07-29T08:00:00\\\").\",\n",
      "      \"parameters\": {\n",
      "        \"properties\": {\n",
      "          \"calendar_id\": {\n",
      "            \"type\": \"string\"\n",
      "          },\n",
      "          \"event_id\": {\n",
      "            \"type\": \"string\"\n",
      "          },\n",
      "          \"new_summary\": {\n",
      "            \"default\": null,\n",
      "            \"type\": \"string\"\n",
      "          },\n",
      "          \"new_description\": {\n",
      "            \"default\": null,\n",
      "            \"type\": \"string\"\n",
      "          },\n",
      "          \"new_start\": {\n",
      "            \"default\": null,\n",
      "            \"type\": \"string\"\n",
      "          },\n",
      "          \"new_end\": {\n",
      "            \"default\": null,\n",
      "            \"type\": \"string\"\n",
      "          }\n",
      "        },\n",
      "        \"required\": [\n",
      "          \"calendar_id\",\n",
      "          \"event_id\"\n",
      "        ],\n",
      "        \"type\": \"object\"\n",
      "      }\n",
      "    },\n",
      "    {\n",
      "      \"name\": \"delete_event\",\n",
      "      \"description\": \"Deletes an event from the specified calendar.\\n\\nArgs:\\n    calendar_id (str): Calendar ID.\\n    event_id (str): Event ID to delete.\",\n",
      "      \"parameters\": {\n",
      "        \"properties\": {\n",
      "          \"calendar_id\": {\n",
      "            \"type\": \"string\"\n",
      "          },\n",
      "          \"event_id\": {\n",
      "            \"type\": \"string\"\n",
      "          }\n",
      "        },\n",
      "        \"required\": [\n",
      "          \"calendar_id\",\n",
      "          \"event_id\"\n",
      "        ],\n",
      "        \"type\": \"object\"\n",
      "      }\n",
      "    },\n",
      "    {\n",
      "      \"name\": \"get_event_by_id\",\n",
      "      \"description\": \"Retrieves a single event from a Google Calendar using its event ID.\\n\\nArgs:\\n    calendar_id (str): The calendar ID containing the event. Example: 'primary'.\\n    event_id (str): The unique ID of the event to retrieve.\\n\\nReturns:\\n    dict: The full event object if found.\",\n",
      "      \"parameters\": {\n",
      "        \"properties\": {\n",
      "          \"calendar_id\": {\n",
      "            \"type\": \"string\"\n",
      "          },\n",
      "          \"event_id\": {\n",
      "            \"type\": \"string\"\n",
      "          }\n",
      "        },\n",
      "        \"required\": [\n",
      "          \"calendar_id\",\n",
      "          \"event_id\"\n",
      "        ],\n",
      "        \"type\": \"object\"\n",
      "      }\n",
      "    },\n",
      "    {\n",
      "      \"name\": \"get_calendarlist\",\n",
      "      \"description\": \"This function is to get the calendarlist in the google calendar that user signed in,\\nmap available calendar name with calendar id.\\n\\nReturn:\\n  calendarList = \\\"calendarsummary\\\": \\\"calendarid\\\"\\n  example:\\n    calendarList = {'Holidays in Malaysia': 'en.malaysia.official#holiday@group.v.calendar.google.com', \\n                    'test': '13b5e0426546e87c0bc04dc502acd2b556f0a9c687c680e32f37c82f76ccbd0f@group.calendar.google.com'}\",\n",
      "      \"parameters\": {\n",
      "        \"properties\": {},\n",
      "        \"type\": \"object\"\n",
      "      }\n",
      "    }\n",
      "  ]\n",
      "]\n"
     ]
    }
   ],
   "source": [
    "from function import get_openai_tools\n",
    "import json\n",
    "tools = [get_openai_tools()]\n",
    "tools_json = json.dumps(tools, indent=2)\n",
    "print(tools_json)"
   ]
  },
  {
   "cell_type": "code",
   "execution_count": 6,
   "id": "f8bea7a7",
   "metadata": {},
   "outputs": [
    {
     "name": "stdout",
     "output_type": "stream",
     "text": [
      "[{'example': '```\\nSYSTEM: You are a helpful assistant who has access to functions. Use them if required\\n<tools>[\\n {\\n \"name\": \"calculate_distance\",\\n \"description\": \"Calculate the distance between two locations\",\\n \"parameters\": {\\n \"type\": \"object\",\\n \"properties\": {\\n \"origin\": {\\n \"type\": \"string\",\\n \"description\": \"The starting location\"\\n },\\n \"destination\": {\\n \"type\": \"string\",\\n \"description\": \"The destination location\"\\n },\\n \"mode\": {\\n \"type\": \"string\",\\n \"description\": \"The mode of transportation\"\\n }\\n },\\n \"required\": [\\n \"origin\",\\n \"destination\",\\n \"mode\"\\n ]\\n }\\n },\\n {\\n \"name\": \"generate_password\",\\n \"description\": \"Generate a random password\",\\n \"parameters\": {\\n \"type\": \"object\",\\n \"properties\": {\\n \"length\": {\\n \"type\": \"integer\",\\n \"description\": \"The length of the password\"\\n }\\n },\\n \"required\": [\\n \"length\"\\n ]\\n }\\n }\\n]\\n\\n</tools>\\nUSER: Hi, I need to know the distance from New York to Los Angeles by car.\\nASSISTANT:\\n<tool_call>\\n{\"arguments\": {\"origin\": \"New York\",\\n \"destination\": \"Los Angeles\", \"mode\": \"car\"}, \"name\": \"calculate_distance\"}\\n</tool_call>\\n```\\n'}, {'example': '```\\nSYSTEM: You are a helpful assistant with access to functions. Use them if required\\n<tools>[\\n {\\n \"name\": \"calculate_distance\",\\n \"description\": \"Calculate the distance between two locations\",\\n \"parameters\": {\\n \"type\": \"object\",\\n \"properties\": {\\n \"origin\": {\\n \"type\": \"string\",\\n \"description\": \"The starting location\"\\n },\\n \"destination\": {\\n \"type\": \"string\",\\n \"description\": \"The destination location\"\\n },\\n \"mode\": {\\n \"type\": \"string\",\\n \"description\": \"The mode of transportation\"\\n }\\n },\\n \"required\": [\\n \"origin\",\\n \"destination\",\\n \"mode\"\\n ]\\n }\\n },\\n {\\n \"name\": \"generate_password\",\\n \"description\": \"Generate a random password\",\\n \"parameters\": {\\n \"type\": \"object\",\\n \"properties\": {\\n \"length\": {\\n \"type\": \"integer\",\\n \"description\": \"The length of the password\"\\n }\\n },\\n \"required\": [\\n \"length\"\\n ]\\n }\\n }\\n]\\n\\n</tools>\\nUSER: Can you help me generate a random password with a length of 8 characters?\\nASSISTANT:\\n<tool_call>\\n{\"arguments\": {\"length\": 8}, \"name\": \"generate_password\"}\\n</tool_call>\\n```'}]\n"
     ]
    }
   ],
   "source": [
    "with open(r\"C:\\Users\\PC\\Desktop\\program\\fine tune\\systemprompt\\fewshotprompting.json\", \"r\") as f:\n",
    "    examples = json.load(f)\n",
    "print(examples)"
   ]
  },
  {
   "cell_type": "code",
   "execution_count": 7,
   "id": "08790c69",
   "metadata": {},
   "outputs": [],
   "source": [
    "from schema import FunctionCall\n",
    "\n",
    "schema = json.dumps(FunctionCall.model_json_schema(),indent=2)"
   ]
  },
  {
   "cell_type": "code",
   "execution_count": 11,
   "id": "9d47d777",
   "metadata": {},
   "outputs": [
    {
     "name": "stdout",
     "output_type": "stream",
     "text": [
      "User: What's the latest tech news?\n",
      "Assistant:<think>Okay, so I need to figure out the latest tech news. Let me see... I remember that there was a big announcement about a new smartphone model. I think it's the latest from Samsung. They just released the Galaxy S23 Ultra, and it has some really cool features like a new camera lens that can take really high-quality photos. Also, the battery life is supposed to be much longer than before, which is great for people who use their phones a lot throughout the day.\n",
      "\n",
      "Another thing that's been making headlines is the rise of AI technology. There are companies like Google and Microsoft that are investing a lot of money in AI research, and they're coming up with some really innovative ideas. For example, Google just announced a new AI tool that can help people with their daily tasks, like scheduling appointments and sending emails. It's all pretty exciting, and I think it's going to change the way we use technology in our daily lives.\n",
      "\n",
      "Oh, and I think there was also some news about a new blockchain technology that's supposed to be more secure than the ones we have now. It's called Ethereum 2.0, and it's designed to be more resistant to hacking and other types of cyber attacks. That's definitely something that I think a lot of people will be interested in, especially if they're into cryptocurrency or blockchain technology.\n",
      "\n",
      "Wait, I just remembered something else. There was a big cybersecurity breach recently, and it was pretty serious. A lot of people's personal data was compromised, and it was all over the news. So, maybe that's something that people are still talking about now. I'm not sure, but I think that's something that might be relevant to the latest tech news.\n",
      "\n",
      "Okay, so putting it all together, the latest tech news seems to be all about new smartphone models, AI technology, blockchain, and cybersecurity. It's all pretty interesting, and I think it's going to be a big year for tech in general.\n"
     ]
    }
   ],
   "source": [
    "from transformers import AutoTokenizer\n",
    "import torch\n",
    "import datetime\n",
    "##example of inputs= tokenizer##\n",
    "\n",
    "## prompt=\"i want you to check the temperature\"\n",
    "## inputs = tokenizer(prompts, return_tensors=pt)\n",
    "\n",
    "messages =  \"\"\"User: What's the latest tech news?\n",
    "Assistant:<think>\"\"\"  # Note no <think> yet\n",
    "\n",
    "inputs = tokenizer(messages, return_tensors=\"pt\").to(model.device)\n",
    "output = model.generate(**inputs, max_new_tokens=512)\n",
    "print(tokenizer.decode(output[0], skip_special_tokens=True))"
   ]
  },
  {
   "cell_type": "markdown",
   "id": "ee3b1d31",
   "metadata": {},
   "source": [
    "### GGUF / llama.cpp Conversion\n",
    "To save to `GGUF` / `llama.cpp`, we support it natively now! We clone `llama.cpp` and we default save it to `q8_0`. We allow all methods like `q4_k_m`. Use `save_pretrained_gguf` for local saving and `push_to_hub_gguf` for uploading to HF.\n",
    "\n",
    "Some supported quant methods (full list on our [Wiki page](https://github.com/unslothai/unsloth/wiki#gguf-quantization-options)):\n",
    "* `q8_0` - Fast conversion. High resource use, but generally acceptable.\n",
    "* `q4_k_m` - Recommended. Uses Q6_K for half of the attention.wv and feed_forward.w2 tensors, else Q4_K.\n",
    "* `q5_k_m` - Recommended. Uses Q6_K for half of the attention.wv and feed_forward.w2 tensors, else Q5_K.\n",
    "\n",
    "[**NEW**] To finetune and auto export to Ollama, try our [Ollama notebook](https://colab.research.google.com/drive/1WZDi7APtQ9VsvOrQSSC5DDtxq159j8iZ?usp=sharing)"
   ]
  },
  {
   "cell_type": "code",
   "execution_count": null,
   "id": "7bdf1a0c",
   "metadata": {},
   "outputs": [],
   "source": [
    "# Save to 8bit Q8_0\n",
    "if False: model.save_pretrained_gguf(\"model\", tokenizer,)\n",
    "# Remember to go to https://huggingface.co/settings/tokens for a token!\n",
    "# And change hf to your username!\n",
    "if False: model.push_to_hub_gguf(\"hf/model\", tokenizer, token = \"\")\n",
    "\n",
    "# Save to 16bit GGUF\n",
    "if False: model.save_pretrained_gguf(\"model\", tokenizer, quantization_method = \"f16\")\n",
    "if False: model.push_to_hub_gguf(\"hf/model\", tokenizer, quantization_method = \"f16\", token = \"\")\n",
    "\n",
    "# Save to q4_k_m GGUF\n",
    "if False: model.save_pretrained_gguf(\"model\", tokenizer, quantization_method = \"q4_k_m\")\n",
    "if False: model.push_to_hub_gguf(\"hf/model\", tokenizer, quantization_method = \"q4_k_m\", token = \"\")\n",
    "\n",
    "# Save to multiple GGUF options - much faster if you want multiple!\n",
    "if False:\n",
    "    model.push_to_hub_gguf(\n",
    "        \"hf/model\", # Change hf to your username!\n",
    "        tokenizer,\n",
    "        quantization_method = [\"q4_k_m\", \"q8_0\", \"q5_k_m\",],\n",
    "        token = \"\", # Get a token at https://huggingface.co/settings/tokens\n",
    "    )"
   ]
  },
  {
   "cell_type": "markdown",
   "id": "fac39e3f",
   "metadata": {},
   "source": [
    "We use `subprocess` to start `Ollama` up in a non blocking fashion! In your own desktop, you can simply open up a new `terminal` and type `ollama serve`, but in Colab, we have to use this hack!"
   ]
  },
  {
   "cell_type": "code",
   "execution_count": null,
   "id": "5e0b1e8a",
   "metadata": {},
   "outputs": [],
   "source": [
    "import subprocess\n",
    "subprocess.Popen([\"ollama\", \"serve\"])\n",
    "import time\n",
    "time.sleep(3) # Wait for a few seconds for Ollama to load!"
   ]
  },
  {
   "cell_type": "markdown",
   "id": "b117cb79",
   "metadata": {},
   "source": [
    "`Ollama` needs a `Modelfile`, which specifies the model's prompt format. Let's print Unsloth's auto generated one:"
   ]
  },
  {
   "cell_type": "code",
   "execution_count": null,
   "id": "96648670",
   "metadata": {},
   "outputs": [],
   "source": [
    "print(tokenizer._ollama_modelfile)"
   ]
  },
  {
   "cell_type": "markdown",
   "id": "e28f6ee0",
   "metadata": {},
   "source": [
    "We now will create an `Ollama` model called `unsloth_model` using the `Modelfile` which we auto generated!"
   ]
  },
  {
   "cell_type": "code",
   "execution_count": null,
   "id": "87198025",
   "metadata": {},
   "outputs": [],
   "source": [
    "!ollama create unsloth_model -f ./model/Modelfile"
   ]
  }
 ],
 "metadata": {
  "kernelspec": {
   "display_name": "fine tune",
   "language": "python",
   "name": "python3"
  },
  "language_info": {
   "codemirror_mode": {
    "name": "ipython",
    "version": 3
   },
   "file_extension": ".py",
   "mimetype": "text/x-python",
   "name": "python",
   "nbconvert_exporter": "python",
   "pygments_lexer": "ipython3",
   "version": "3.11.9"
  }
 },
 "nbformat": 4,
 "nbformat_minor": 5
}
